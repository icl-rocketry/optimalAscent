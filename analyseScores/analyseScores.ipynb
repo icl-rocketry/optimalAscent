{
 "cells": [
  {
   "cell_type": "code",
   "execution_count": 1,
   "metadata": {},
   "outputs": [],
   "source": [
    "import numpy as np\n",
    "import pandas as pd\n",
    "import matplotlib.pyplot as plt"
   ]
  },
  {
   "cell_type": "code",
   "execution_count": 2,
   "metadata": {},
   "outputs": [],
   "source": [
    "df2018 = pd.read_excel('scoring_matrix_26jun2018_final_for_release.xlsx')\n",
    "df2019 = pd.read_excel('scoring_matrix_2019_master_release_full_data.xlsx')"
   ]
  },
  {
   "cell_type": "code",
   "execution_count": 3,
   "metadata": {},
   "outputs": [
    {
     "data": {
      "text/html": [
       "<div>\n",
       "<style scoped>\n",
       "    .dataframe tbody tr th:only-of-type {\n",
       "        vertical-align: middle;\n",
       "    }\n",
       "\n",
       "    .dataframe tbody tr th {\n",
       "        vertical-align: top;\n",
       "    }\n",
       "\n",
       "    .dataframe thead th {\n",
       "        text-align: right;\n",
       "    }\n",
       "</style>\n",
       "<table border=\"1\" class=\"dataframe\">\n",
       "  <thead>\n",
       "    <tr style=\"text-align: right;\">\n",
       "      <th></th>\n",
       "      <th>Team ID</th>\n",
       "      <th>Category</th>\n",
       "      <th>Project Name</th>\n",
       "      <th>Organization Name</th>\n",
       "      <th>School Name</th>\n",
       "      <th>Target Altitude (ft)</th>\n",
       "      <th>Predicted Apogee (ft)</th>\n",
       "      <th>Actual Apogee (ft)</th>\n",
       "      <th>Total Score</th>\n",
       "      <th>Percent Predicted vs. Actual</th>\n",
       "    </tr>\n",
       "  </thead>\n",
       "  <tbody>\n",
       "    <tr>\n",
       "      <th>0</th>\n",
       "      <td>2</td>\n",
       "      <td>10k – COTS – All Propulsion Types</td>\n",
       "      <td>Unstoppable</td>\n",
       "      <td>Pioneer Rocketry</td>\n",
       "      <td>University of Wisconsin-Platteville</td>\n",
       "      <td>10000</td>\n",
       "      <td>10000.0</td>\n",
       "      <td>9555.0</td>\n",
       "      <td>951.583333</td>\n",
       "      <td>0.955500</td>\n",
       "    </tr>\n",
       "    <tr>\n",
       "      <th>1</th>\n",
       "      <td>3</td>\n",
       "      <td>10k – SRAD – Solid Motors</td>\n",
       "      <td>SRAD Chad</td>\n",
       "      <td>The George Wasington University Rocket Team</td>\n",
       "      <td>The George Washington University</td>\n",
       "      <td>10000</td>\n",
       "      <td>12000.0</td>\n",
       "      <td>13508.0</td>\n",
       "      <td>631.000000</td>\n",
       "      <td>0.874333</td>\n",
       "    </tr>\n",
       "    <tr>\n",
       "      <th>2</th>\n",
       "      <td>4</td>\n",
       "      <td>10k – SRAD – Hybrid/Liquid &amp; Other</td>\n",
       "      <td>Panda 3</td>\n",
       "      <td>AGH Space Systems</td>\n",
       "      <td>AGH University of Science and Technology</td>\n",
       "      <td>10000</td>\n",
       "      <td>NaN</td>\n",
       "      <td>NaN</td>\n",
       "      <td>420.000000</td>\n",
       "      <td>NaN</td>\n",
       "    </tr>\n",
       "    <tr>\n",
       "      <th>3</th>\n",
       "      <td>5</td>\n",
       "      <td>10k – COTS – All Propulsion Types</td>\n",
       "      <td>Pointy End Up</td>\n",
       "      <td>Boomer Rocket Team</td>\n",
       "      <td>The University of Oklahoma</td>\n",
       "      <td>10000</td>\n",
       "      <td>10332.0</td>\n",
       "      <td>5400.0</td>\n",
       "      <td>475.500000</td>\n",
       "      <td>0.522648</td>\n",
       "    </tr>\n",
       "    <tr>\n",
       "      <th>4</th>\n",
       "      <td>6</td>\n",
       "      <td>10k – COTS – All Propulsion Types</td>\n",
       "      <td>Vyom</td>\n",
       "      <td>thrustMIT</td>\n",
       "      <td>Manipal Institute of Technology, Manipal Acade...</td>\n",
       "      <td>10000</td>\n",
       "      <td>10000.0</td>\n",
       "      <td>0.0</td>\n",
       "      <td>467.250000</td>\n",
       "      <td>0.000000</td>\n",
       "    </tr>\n",
       "  </tbody>\n",
       "</table>\n",
       "</div>"
      ],
      "text/plain": [
       "   Team ID                            Category  Project Name   \\\n",
       "0        2   10k – COTS – All Propulsion Types    Unstoppable   \n",
       "1        3           10k – SRAD – Solid Motors      SRAD Chad   \n",
       "2        4  10k – SRAD – Hybrid/Liquid & Other        Panda 3   \n",
       "3        5   10k – COTS – All Propulsion Types  Pointy End Up   \n",
       "4        6   10k – COTS – All Propulsion Types           Vyom   \n",
       "\n",
       "                             Organization Name  \\\n",
       "0                             Pioneer Rocketry   \n",
       "1  The George Wasington University Rocket Team   \n",
       "2                            AGH Space Systems   \n",
       "3                           Boomer Rocket Team   \n",
       "4                                    thrustMIT   \n",
       "\n",
       "                                         School Name  Target Altitude (ft)  \\\n",
       "0                University of Wisconsin-Platteville                 10000   \n",
       "1                   The George Washington University                 10000   \n",
       "2           AGH University of Science and Technology                 10000   \n",
       "3                        The University of Oklahoma                  10000   \n",
       "4  Manipal Institute of Technology, Manipal Acade...                 10000   \n",
       "\n",
       "   Predicted Apogee (ft)  Actual Apogee (ft)  Total Score  \\\n",
       "0                10000.0              9555.0   951.583333   \n",
       "1                12000.0             13508.0   631.000000   \n",
       "2                    NaN                 NaN   420.000000   \n",
       "3                10332.0              5400.0   475.500000   \n",
       "4                10000.0                 0.0   467.250000   \n",
       "\n",
       "   Percent Predicted vs. Actual  \n",
       "0                      0.955500  \n",
       "1                      0.874333  \n",
       "2                           NaN  \n",
       "3                      0.522648  \n",
       "4                      0.000000  "
      ]
     },
     "execution_count": 3,
     "metadata": {},
     "output_type": "execute_result"
    }
   ],
   "source": [
    "df2018.head()"
   ]
  },
  {
   "cell_type": "code",
   "execution_count": 26,
   "metadata": {},
   "outputs": [
    {
     "data": {
      "text/html": [
       "<div>\n",
       "<style scoped>\n",
       "    .dataframe tbody tr th:only-of-type {\n",
       "        vertical-align: middle;\n",
       "    }\n",
       "\n",
       "    .dataframe tbody tr th {\n",
       "        vertical-align: top;\n",
       "    }\n",
       "\n",
       "    .dataframe thead th {\n",
       "        text-align: right;\n",
       "    }\n",
       "</style>\n",
       "<table border=\"1\" class=\"dataframe\">\n",
       "  <thead>\n",
       "    <tr style=\"text-align: right;\">\n",
       "      <th></th>\n",
       "      <th>Team ID</th>\n",
       "      <th>Category</th>\n",
       "      <th>Project Name</th>\n",
       "      <th>Organization Name</th>\n",
       "      <th>School Name</th>\n",
       "      <th>Correct (0,1)</th>\n",
       "      <th>Complete (0,1)</th>\n",
       "      <th>Timely (0,1)</th>\n",
       "      <th>Entry Form</th>\n",
       "      <th>Correct (0,1).1</th>\n",
       "      <th>...</th>\n",
       "      <th>Flight Performance</th>\n",
       "      <th>Total Team Infractions</th>\n",
       "      <th>Payload Violations</th>\n",
       "      <th>Penalties</th>\n",
       "      <th>Payload</th>\n",
       "      <th>Early Launch</th>\n",
       "      <th>Bonuses</th>\n",
       "      <th>&gt;1/2 Target Alt?</th>\n",
       "      <th>Total Score</th>\n",
       "      <th>Percent Predicted vs. Actual</th>\n",
       "    </tr>\n",
       "  </thead>\n",
       "  <tbody>\n",
       "    <tr>\n",
       "      <th>0</th>\n",
       "      <td>1</td>\n",
       "      <td>10k – SRAD – Solid Motors</td>\n",
       "      <td>Stable George</td>\n",
       "      <td>GW Rocket Team</td>\n",
       "      <td>The George Washington University</td>\n",
       "      <td>1</td>\n",
       "      <td>1</td>\n",
       "      <td>1</td>\n",
       "      <td>15</td>\n",
       "      <td>1</td>\n",
       "      <td>...</td>\n",
       "      <td>481.800000</td>\n",
       "      <td>NaN</td>\n",
       "      <td>NaN</td>\n",
       "      <td>0</td>\n",
       "      <td>50.0</td>\n",
       "      <td>50</td>\n",
       "      <td>100</td>\n",
       "      <td>True</td>\n",
       "      <td>1042.300000</td>\n",
       "      <td>0.930947</td>\n",
       "    </tr>\n",
       "    <tr>\n",
       "      <th>1</th>\n",
       "      <td>2</td>\n",
       "      <td>10k – SRAD – Hybrid/Liquid &amp; Other</td>\n",
       "      <td>PROtotype</td>\n",
       "      <td>AGH Space Systems</td>\n",
       "      <td>AGH University of Science and Technology</td>\n",
       "      <td>1</td>\n",
       "      <td>1</td>\n",
       "      <td>1</td>\n",
       "      <td>15</td>\n",
       "      <td>1</td>\n",
       "      <td>...</td>\n",
       "      <td>0.000000</td>\n",
       "      <td>NaN</td>\n",
       "      <td>NaN</td>\n",
       "      <td>0</td>\n",
       "      <td>50.0</td>\n",
       "      <td>25</td>\n",
       "      <td>75</td>\n",
       "      <td>False</td>\n",
       "      <td>565.000000</td>\n",
       "      <td>0.072146</td>\n",
       "    </tr>\n",
       "    <tr>\n",
       "      <th>2</th>\n",
       "      <td>3</td>\n",
       "      <td>10k – COTS – All Propulsion Types</td>\n",
       "      <td>Noctua II</td>\n",
       "      <td>Rice Eclipse</td>\n",
       "      <td>Rice University</td>\n",
       "      <td>1</td>\n",
       "      <td>1</td>\n",
       "      <td>1</td>\n",
       "      <td>15</td>\n",
       "      <td>1</td>\n",
       "      <td>...</td>\n",
       "      <td>0.000000</td>\n",
       "      <td>NaN</td>\n",
       "      <td>NaN</td>\n",
       "      <td>0</td>\n",
       "      <td>0.0</td>\n",
       "      <td>100</td>\n",
       "      <td>100</td>\n",
       "      <td>False</td>\n",
       "      <td>417.500000</td>\n",
       "      <td>0.000000</td>\n",
       "    </tr>\n",
       "    <tr>\n",
       "      <th>3</th>\n",
       "      <td>4</td>\n",
       "      <td>30k – COTS – All Propulsion Types</td>\n",
       "      <td>Aarluk</td>\n",
       "      <td>RockÉTS</td>\n",
       "      <td>École de Technologie Supérieure</td>\n",
       "      <td>1</td>\n",
       "      <td>1</td>\n",
       "      <td>1</td>\n",
       "      <td>15</td>\n",
       "      <td>1</td>\n",
       "      <td>...</td>\n",
       "      <td>315.316667</td>\n",
       "      <td>NaN</td>\n",
       "      <td>NaN</td>\n",
       "      <td>0</td>\n",
       "      <td>50.0</td>\n",
       "      <td>100</td>\n",
       "      <td>150</td>\n",
       "      <td>True</td>\n",
       "      <td>948.816667</td>\n",
       "      <td>0.952293</td>\n",
       "    </tr>\n",
       "    <tr>\n",
       "      <th>4</th>\n",
       "      <td>5</td>\n",
       "      <td>10k – COTS – All Propulsion Types</td>\n",
       "      <td>YUAA IREC Rocket Project</td>\n",
       "      <td>Yale Undergraduate Aerospace Association</td>\n",
       "      <td>Yale University</td>\n",
       "      <td>1</td>\n",
       "      <td>1</td>\n",
       "      <td>1</td>\n",
       "      <td>15</td>\n",
       "      <td>1</td>\n",
       "      <td>...</td>\n",
       "      <td>281.016667</td>\n",
       "      <td>NaN</td>\n",
       "      <td>NaN</td>\n",
       "      <td>0</td>\n",
       "      <td>0.0</td>\n",
       "      <td>100</td>\n",
       "      <td>100</td>\n",
       "      <td>True</td>\n",
       "      <td>609.016667</td>\n",
       "      <td>0.900854</td>\n",
       "    </tr>\n",
       "  </tbody>\n",
       "</table>\n",
       "<p>5 rows × 43 columns</p>\n",
       "</div>"
      ],
      "text/plain": [
       "   Team ID                            Category             Project Name   \\\n",
       "0        1           10k – SRAD – Solid Motors             Stable George   \n",
       "1        2  10k – SRAD – Hybrid/Liquid & Other                 PROtotype   \n",
       "2        3   10k – COTS – All Propulsion Types                 Noctua II   \n",
       "3        4   30k – COTS – All Propulsion Types                    Aarluk   \n",
       "4        5   10k – COTS – All Propulsion Types  YUAA IREC Rocket Project   \n",
       "\n",
       "                          Organization Name  \\\n",
       "0                            GW Rocket Team   \n",
       "1                         AGH Space Systems   \n",
       "2                              Rice Eclipse   \n",
       "3                                   RockÉTS   \n",
       "4  Yale Undergraduate Aerospace Association   \n",
       "\n",
       "                                School Name  Correct (0,1)  Complete (0,1)  \\\n",
       "0          The George Washington University              1               1   \n",
       "1  AGH University of Science and Technology              1               1   \n",
       "2                           Rice University              1               1   \n",
       "3           École de Technologie Supérieure              1               1   \n",
       "4                           Yale University              1               1   \n",
       "\n",
       "   Timely (0,1)  Entry Form  Correct (0,1).1  ...  Flight Performance  \\\n",
       "0             1          15                1  ...          481.800000   \n",
       "1             1          15                1  ...            0.000000   \n",
       "2             1          15                1  ...            0.000000   \n",
       "3             1          15                1  ...          315.316667   \n",
       "4             1          15                1  ...          281.016667   \n",
       "\n",
       "   Total Team Infractions  Payload Violations  Penalties   Payload  \\\n",
       "0                     NaN                 NaN           0     50.0   \n",
       "1                     NaN                 NaN           0     50.0   \n",
       "2                     NaN                 NaN           0      0.0   \n",
       "3                     NaN                 NaN           0     50.0   \n",
       "4                     NaN                 NaN           0      0.0   \n",
       "\n",
       "   Early Launch  Bonuses  >1/2 Target Alt?  Total Score  \\\n",
       "0            50      100              True  1042.300000   \n",
       "1            25       75             False   565.000000   \n",
       "2           100      100             False   417.500000   \n",
       "3           100      150              True   948.816667   \n",
       "4           100      100              True   609.016667   \n",
       "\n",
       "   Percent Predicted vs. Actual  \n",
       "0                      0.930947  \n",
       "1                      0.072146  \n",
       "2                      0.000000  \n",
       "3                      0.952293  \n",
       "4                      0.900854  \n",
       "\n",
       "[5 rows x 43 columns]"
      ]
     },
     "execution_count": 26,
     "metadata": {},
     "output_type": "execute_result"
    }
   ],
   "source": [
    "df2019.head()"
   ]
  },
  {
   "cell_type": "code",
   "execution_count": 27,
   "metadata": {},
   "outputs": [
    {
     "data": {
      "text/plain": [
       "['30k – SRAD – Solid Motors',\n",
       " '30k – SRAD – Hybrid/Liquid & Other',\n",
       " '10k – SRAD – Solid Motors',\n",
       " '10k – COTS – All Propulsion Types',\n",
       " '10k – SRAD – Hybrid/Liquid & Other',\n",
       " '30k – COTS – All Propulsion Types']"
      ]
     },
     "execution_count": 27,
     "metadata": {},
     "output_type": "execute_result"
    }
   ],
   "source": [
    "cats2019 = list(set(df2019['Category']))\n",
    "cats2019"
   ]
  },
  {
   "cell_type": "code",
   "execution_count": 28,
   "metadata": {},
   "outputs": [
    {
     "data": {
      "text/plain": [
       "['30k – SRAD – Solid Motors',\n",
       " '30k – SRAD – Hybrid/Liquid & Other',\n",
       " '10k – SRAD – Solid Motors',\n",
       " '10k – COTS – All Propulsion Types',\n",
       " '10k – SRAD – Hybrid/Liquid & Other',\n",
       " '10k – COTS – DEMO',\n",
       " '30k – COTS – All Propulsion Types']"
      ]
     },
     "execution_count": 28,
     "metadata": {},
     "output_type": "execute_result"
    }
   ],
   "source": [
    "cats2018 = list(set(df2018['Category']))\n",
    "cats2018"
   ]
  },
  {
   "cell_type": "code",
   "execution_count": 31,
   "metadata": {},
   "outputs": [
    {
     "name": "stdout",
     "output_type": "stream",
     "text": [
      "8: 30k – SRAD – Solid Motors\n",
      "4: 30k – SRAD – Hybrid/Liquid & Other\n",
      "16: 10k – SRAD – Solid Motors\n",
      "46: 10k – COTS – All Propulsion Types\n",
      "13: 10k – SRAD – Hybrid/Liquid & Other\n",
      "20: 30k – COTS – All Propulsion Types\n"
     ]
    }
   ],
   "source": [
    "for cat in cats2019:\n",
    "    df = df2019[df2019['Category']==cat]\n",
    "    print(f'{len(df)}: {cat}')"
   ]
  },
  {
   "cell_type": "code",
   "execution_count": 32,
   "metadata": {},
   "outputs": [
    {
     "name": "stdout",
     "output_type": "stream",
     "text": [
      "9: 30k – SRAD – Solid Motors\n",
      "3: 30k – SRAD – Hybrid/Liquid & Other\n",
      "13: 10k – SRAD – Solid Motors\n",
      "47: 10k – COTS – All Propulsion Types\n",
      "11: 10k – SRAD – Hybrid/Liquid & Other\n",
      "1: 10k – COTS – DEMO\n",
      "15: 30k – COTS – All Propulsion Types\n"
     ]
    }
   ],
   "source": [
    "for cat in cats2018:\n",
    "    df = df2018[df2018['Category']==cat]\n",
    "    print(f'{len(df)}: {cat}')"
   ]
  },
  {
   "cell_type": "code",
   "execution_count": 33,
   "metadata": {},
   "outputs": [
    {
     "data": {
      "text/plain": [
       "99"
      ]
     },
     "execution_count": 33,
     "metadata": {},
     "output_type": "execute_result"
    }
   ],
   "source": [
    "len(df2018)"
   ]
  },
  {
   "cell_type": "code",
   "execution_count": 34,
   "metadata": {},
   "outputs": [
    {
     "data": {
      "text/plain": [
       "107"
      ]
     },
     "execution_count": 34,
     "metadata": {},
     "output_type": "execute_result"
    }
   ],
   "source": [
    "len(df2019)"
   ]
  },
  {
   "cell_type": "code",
   "execution_count": 20,
   "metadata": {},
   "outputs": [],
   "source": [
    "filt2018 = df2018[df2018[\"Target Altitude (ft)\"] == 10000]\n",
    "filt2019 = df2019[df2019[\"Target Altitude (ft)\"] == 10000]"
   ]
  },
  {
   "cell_type": "code",
   "execution_count": null,
   "metadata": {},
   "outputs": [],
   "source": [
    "df2019['Project Name ']"
   ]
  },
  {
   "cell_type": "code",
   "execution_count": 32,
   "metadata": {},
   "outputs": [
    {
     "data": {
      "image/png": "[encoded data removed]",
      "text/plain": [
       "<Figure size 432x288 with 1 Axes>"
      ]
     },
     "metadata": {
      "needs_background": "light"
     },
     "output_type": "display_data"
    }
   ],
   "source": [
    "plt.figure()\n",
    "plt.title('Spread on actual altitude achieved (if going for 10k)')\n",
    "plt.grid()\n",
    "plt.hist(filt2018[\"Actual Apogee (ft)\"], bins=20);\n",
    "plt.hist(filt2019[\"Actual Apogee (ft)\"], bins=20);\n",
    "plt.xlim(2000, 15000)\n",
    "plt.ylim(0, 15)\n",
    "plt.xlabel('Achieved Apogee')\n",
    "plt.ylabel('Freq');"
   ]
  },
  {
   "cell_type": "code",
   "execution_count": 56,
   "metadata": {},
   "outputs": [],
   "source": [
    "df2019 = df2019.sort_values(by='Total Score')"
   ]
  },
  {
   "cell_type": "code",
   "execution_count": 78,
   "metadata": {},
   "outputs": [
    {
     "data": {
      "text/plain": [
       "<matplotlib.axes._subplots.AxesSubplot at 0x12fb99390>"
      ]
     },
     "execution_count": 78,
     "metadata": {},
     "output_type": "execute_result"
    },
    {
     "data": {
      "image/png": "[encoded data removed]",
      "text/plain": [
       "<Figure size 432x288 with 1 Axes>"
      ]
     },
     "metadata": {
      "needs_background": "light"
     },
     "output_type": "display_data"
    }
   ],
   "source": [
    "fig = plt.figure()\n",
    "ax1 = fig.add_subplot(1,1,1)\n",
    "df2019[cols].plot.bar(stacked = True, ax=ax1)"
   ]
  },
  {
   "cell_type": "code",
   "execution_count": 81,
   "metadata": {},
   "outputs": [
    {
     "name": "stderr",
     "output_type": "stream",
     "text": [
      "The PostScript backend does not support transparency; partially transparent artists will be rendered opaque.\n",
      "The PostScript backend does not support transparency; partially transparent artists will be rendered opaque.\n"
     ]
    }
   ],
   "source": [
    "fig.savefig('Score Spread.eps')"
   ]
  },
  {
   "cell_type": "code",
   "execution_count": 95,
   "metadata": {},
   "outputs": [
    {
     "data": {
      "image/png": "[encoded data removed]",
      "text/plain": [
       "<Figure size 432x288 with 1 Axes>"
      ]
     },
     "metadata": {
      "needs_background": "light"
     },
     "output_type": "display_data"
    }
   ],
   "source": [
    "\n",
    "fig = plt.figure()\n",
    "ax1 = fig.add_subplot(1,1,1)\n",
    "df2019[cols].plot.box(stacked = True, ax=ax1, notch = True,showmeans = True)\n",
    "for ax in fig.axes:\n",
    "    plt.sca(ax)\n",
    "    plt.xticks(rotation=90)\n",
    "    plt.xlabel('Category')\n",
    "    plt.ylabel('Score')\n",
    "    plt.grid()"
   ]
  },
  {
   "cell_type": "code",
   "execution_count": 98,
   "metadata": {},
   "outputs": [],
   "source": [
    "fig.savefig('Score Contributions.eps', bbox_inches='tight')\n",
    "fig.savefig('Score Contributions.png', bbox_inches='tight')"
   ]
  },
  {
   "cell_type": "code",
   "execution_count": null,
   "metadata": {},
   "outputs": [],
   "source": []
  }
 ],
 "metadata": {
  "kernelspec": {
   "display_name": "Python 3",
   "language": "python",
   "name": "python3"
  },
  "language_info": {
   "codemirror_mode": {
    "name": "ipython",
    "version": 3
   },
   "file_extension": ".py",
   "mimetype": "text/x-python",
   "name": "python",
   "nbconvert_exporter": "python",
   "pygments_lexer": "ipython3",
   "version": "3.6.7"
  }
 },
 "nbformat": 4,
 "nbformat_minor": 2
}
