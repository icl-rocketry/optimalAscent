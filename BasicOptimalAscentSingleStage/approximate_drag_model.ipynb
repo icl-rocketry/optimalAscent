{
 "cells": [
  {
   "cell_type": "markdown",
   "metadata": {},
   "source": [
    "This script imports the open rocket export of flight data of a rocket of approximately the same size and shape as the U Waterloo rocket for the 10k SRAD hybrid category attempt in 2018. \n",
    "\n",
    "Using the drag coefficients, I detetermine the polynomial fit of drag coefficient against mach number. \n",
    "It works well if using 3 segments, between 0 -> 1, 1 -> 1.25, 1.25 -> 2. The last segment could be extended upto about mach 3, but there is no data here. "
   ]
  },
  {
   "cell_type": "code",
   "execution_count": 5,
   "metadata": {},
   "outputs": [],
   "source": [
    "import numpy as np\n",
    "import pandas as pd\n",
    "import matplotlib.pyplot as plt"
   ]
  },
  {
   "cell_type": "code",
   "execution_count": null,
   "metadata": {},
   "outputs": [],
   "source": []
  },
  {
   "cell_type": "code",
   "execution_count": 2,
   "metadata": {},
   "outputs": [],
   "source": [
    "df = pd.read_csv('UWaterloo_approximate_model.csv')"
   ]
  },
  {
   "cell_type": "code",
   "execution_count": 4,
   "metadata": {},
   "outputs": [
    {
     "data": {
      "text/html": [
       "<div>\n",
       "<style scoped>\n",
       "    .dataframe tbody tr th:only-of-type {\n",
       "        vertical-align: middle;\n",
       "    }\n",
       "\n",
       "    .dataframe tbody tr th {\n",
       "        vertical-align: top;\n",
       "    }\n",
       "\n",
       "    .dataframe thead th {\n",
       "        text-align: right;\n",
       "    }\n",
       "</style>\n",
       "<table border=\"1\" class=\"dataframe\">\n",
       "  <thead>\n",
       "    <tr style=\"text-align: right;\">\n",
       "      <th></th>\n",
       "      <th># Time (s)</th>\n",
       "      <th>Altitude (m)</th>\n",
       "      <th>Vertical velocity (m/s)</th>\n",
       "      <th>Vertical acceleration (m/s²)</th>\n",
       "      <th>Total velocity (m/s)</th>\n",
       "      <th>Total acceleration (m/s²)</th>\n",
       "      <th>Position East of launch (m)</th>\n",
       "      <th>Position North of launch (m)</th>\n",
       "      <th>Lateral distance (m)</th>\n",
       "      <th>Lateral direction (°)</th>\n",
       "      <th>...</th>\n",
       "      <th>Reference length (cm)</th>\n",
       "      <th>Reference area (cm²)</th>\n",
       "      <th>Vertical orientation (zenith) (°)</th>\n",
       "      <th>Lateral orientation (azimuth) (°)</th>\n",
       "      <th>Wind velocity (m/s)</th>\n",
       "      <th>Air temperature (°C)</th>\n",
       "      <th>Air pressure (mbar)</th>\n",
       "      <th>Speed of sound (m/s)</th>\n",
       "      <th>Simulation time step (s)</th>\n",
       "      <th>Computation time (s)</th>\n",
       "    </tr>\n",
       "  </thead>\n",
       "  <tbody>\n",
       "    <tr>\n",
       "      <th>0</th>\n",
       "      <td>0.00</td>\n",
       "      <td>0.000000</td>\n",
       "      <td>0.00000</td>\n",
       "      <td>39.751</td>\n",
       "      <td>0.0000</td>\n",
       "      <td>39.97</td>\n",
       "      <td>0.000000</td>\n",
       "      <td>0.0</td>\n",
       "      <td>0.000000</td>\n",
       "      <td>0.0</td>\n",
       "      <td>...</td>\n",
       "      <td>15.24</td>\n",
       "      <td>182.41</td>\n",
       "      <td>84.0</td>\n",
       "      <td>0.0</td>\n",
       "      <td>NaN</td>\n",
       "      <td>14.675</td>\n",
       "      <td>1007.4</td>\n",
       "      <td>340.19</td>\n",
       "      <td>0.01</td>\n",
       "      <td>0.002643</td>\n",
       "    </tr>\n",
       "    <tr>\n",
       "      <th>1</th>\n",
       "      <td>0.01</td>\n",
       "      <td>0.001988</td>\n",
       "      <td>0.39751</td>\n",
       "      <td>138.630</td>\n",
       "      <td>0.3997</td>\n",
       "      <td>139.39</td>\n",
       "      <td>0.000209</td>\n",
       "      <td>0.0</td>\n",
       "      <td>0.000209</td>\n",
       "      <td>0.0</td>\n",
       "      <td>...</td>\n",
       "      <td>15.24</td>\n",
       "      <td>182.41</td>\n",
       "      <td>84.0</td>\n",
       "      <td>0.0</td>\n",
       "      <td>NaN</td>\n",
       "      <td>14.675</td>\n",
       "      <td>1007.4</td>\n",
       "      <td>340.19</td>\n",
       "      <td>0.01</td>\n",
       "      <td>0.003241</td>\n",
       "    </tr>\n",
       "    <tr>\n",
       "      <th>2</th>\n",
       "      <td>0.02</td>\n",
       "      <td>0.012895</td>\n",
       "      <td>1.78400</td>\n",
       "      <td>237.550</td>\n",
       "      <td>1.7938</td>\n",
       "      <td>238.86</td>\n",
       "      <td>0.001355</td>\n",
       "      <td>0.0</td>\n",
       "      <td>0.001355</td>\n",
       "      <td>0.0</td>\n",
       "      <td>...</td>\n",
       "      <td>15.24</td>\n",
       "      <td>182.41</td>\n",
       "      <td>84.0</td>\n",
       "      <td>0.0</td>\n",
       "      <td>NaN</td>\n",
       "      <td>14.675</td>\n",
       "      <td>1007.4</td>\n",
       "      <td>340.19</td>\n",
       "      <td>0.01</td>\n",
       "      <td>0.003728</td>\n",
       "    </tr>\n",
       "    <tr>\n",
       "      <th>3</th>\n",
       "      <td>0.03</td>\n",
       "      <td>0.042614</td>\n",
       "      <td>4.15990</td>\n",
       "      <td>317.910</td>\n",
       "      <td>4.1828</td>\n",
       "      <td>319.66</td>\n",
       "      <td>0.004479</td>\n",
       "      <td>0.0</td>\n",
       "      <td>0.004479</td>\n",
       "      <td>0.0</td>\n",
       "      <td>...</td>\n",
       "      <td>15.24</td>\n",
       "      <td>182.41</td>\n",
       "      <td>84.0</td>\n",
       "      <td>0.0</td>\n",
       "      <td>NaN</td>\n",
       "      <td>14.675</td>\n",
       "      <td>1007.4</td>\n",
       "      <td>340.19</td>\n",
       "      <td>0.01</td>\n",
       "      <td>0.004232</td>\n",
       "    </tr>\n",
       "    <tr>\n",
       "      <th>4</th>\n",
       "      <td>0.04</td>\n",
       "      <td>0.100110</td>\n",
       "      <td>7.33950</td>\n",
       "      <td>324.560</td>\n",
       "      <td>7.3799</td>\n",
       "      <td>326.35</td>\n",
       "      <td>0.010522</td>\n",
       "      <td>0.0</td>\n",
       "      <td>0.010522</td>\n",
       "      <td>0.0</td>\n",
       "      <td>...</td>\n",
       "      <td>15.24</td>\n",
       "      <td>182.41</td>\n",
       "      <td>84.0</td>\n",
       "      <td>0.0</td>\n",
       "      <td>NaN</td>\n",
       "      <td>14.674</td>\n",
       "      <td>1007.4</td>\n",
       "      <td>340.19</td>\n",
       "      <td>0.01</td>\n",
       "      <td>0.004862</td>\n",
       "    </tr>\n",
       "  </tbody>\n",
       "</table>\n",
       "<p>5 rows × 54 columns</p>\n",
       "</div>"
      ],
      "text/plain": [
       "   # Time (s)  Altitude (m)  Vertical velocity (m/s)  \\\n",
       "0        0.00      0.000000                  0.00000   \n",
       "1        0.01      0.001988                  0.39751   \n",
       "2        0.02      0.012895                  1.78400   \n",
       "3        0.03      0.042614                  4.15990   \n",
       "4        0.04      0.100110                  7.33950   \n",
       "\n",
       "   Vertical acceleration (m/s²)  Total velocity (m/s)  \\\n",
       "0                        39.751                0.0000   \n",
       "1                       138.630                0.3997   \n",
       "2                       237.550                1.7938   \n",
       "3                       317.910                4.1828   \n",
       "4                       324.560                7.3799   \n",
       "\n",
       "   Total acceleration (m/s²)  Position East of launch (m)  \\\n",
       "0                      39.97                     0.000000   \n",
       "1                     139.39                     0.000209   \n",
       "2                     238.86                     0.001355   \n",
       "3                     319.66                     0.004479   \n",
       "4                     326.35                     0.010522   \n",
       "\n",
       "   Position North of launch (m)  Lateral distance (m)  Lateral direction (°)  \\\n",
       "0                           0.0              0.000000                    0.0   \n",
       "1                           0.0              0.000209                    0.0   \n",
       "2                           0.0              0.001355                    0.0   \n",
       "3                           0.0              0.004479                    0.0   \n",
       "4                           0.0              0.010522                    0.0   \n",
       "\n",
       "   ...  Reference length (cm)  Reference area (cm²)  \\\n",
       "0  ...                  15.24                182.41   \n",
       "1  ...                  15.24                182.41   \n",
       "2  ...                  15.24                182.41   \n",
       "3  ...                  15.24                182.41   \n",
       "4  ...                  15.24                182.41   \n",
       "\n",
       "   Vertical orientation (zenith) (°)  Lateral orientation (azimuth) (°)  \\\n",
       "0                               84.0                                0.0   \n",
       "1                               84.0                                0.0   \n",
       "2                               84.0                                0.0   \n",
       "3                               84.0                                0.0   \n",
       "4                               84.0                                0.0   \n",
       "\n",
       "   Wind velocity (m/s)  Air temperature (°C)  Air pressure (mbar)  \\\n",
       "0                  NaN                14.675               1007.4   \n",
       "1                  NaN                14.675               1007.4   \n",
       "2                  NaN                14.675               1007.4   \n",
       "3                  NaN                14.675               1007.4   \n",
       "4                  NaN                14.674               1007.4   \n",
       "\n",
       "   Speed of sound (m/s)  Simulation time step (s)  Computation time (s)  \n",
       "0                340.19                      0.01              0.002643  \n",
       "1                340.19                      0.01              0.003241  \n",
       "2                340.19                      0.01              0.003728  \n",
       "3                340.19                      0.01              0.004232  \n",
       "4                340.19                      0.01              0.004862  \n",
       "\n",
       "[5 rows x 54 columns]"
      ]
     },
     "execution_count": 4,
     "metadata": {},
     "output_type": "execute_result"
    }
   ],
   "source": [
    "df.head()"
   ]
  },
  {
   "cell_type": "code",
   "execution_count": 6,
   "metadata": {},
   "outputs": [
    {
     "data": {
      "text/plain": [
       "Index(['# Time (s)', 'Altitude (m)', 'Vertical velocity (m/s)',\n",
       "       'Vertical acceleration (m/s²)', 'Total velocity (m/s)',\n",
       "       'Total acceleration (m/s²)', 'Position East of launch (m)',\n",
       "       'Position North of launch (m)', 'Lateral distance (m)',\n",
       "       'Lateral direction (°)', 'Lateral velocity (m/s)',\n",
       "       'Lateral acceleration (m/s²)', 'Latitude (°)', 'Longitude (°)',\n",
       "       'Gravitational acceleration (m/s²)', 'Angle of attack (°)',\n",
       "       'Roll rate (°/s)', 'Pitch rate (°/s)', 'Yaw rate (°/s)', 'Mass (g)',\n",
       "       'Propellant mass (g)', 'Longitudinal moment of inertia (kg·m²)',\n",
       "       'Rotational moment of inertia (kg·m²)', 'CP location (cm)',\n",
       "       'CG location (cm)', 'Stability margin calibers (​)', 'Mach number (​)',\n",
       "       'Reynolds number (​)', 'Thrust (N)', 'Drag force (N)',\n",
       "       'Drag coefficient (​)', 'Axial drag coefficient (​)',\n",
       "       'Friction drag coefficient (​)', 'Pressure drag coefficient (​)',\n",
       "       'Base drag coefficient (​)', 'Normal force coefficient (​)',\n",
       "       'Pitch moment coefficient (​)', 'Yaw moment coefficient (​)',\n",
       "       'Side force coefficient (​)', 'Roll moment coefficient (​)',\n",
       "       'Roll forcing coefficient (​)', 'Roll damping coefficient (​)',\n",
       "       'Pitch damping coefficient (​)', 'Coriolis acceleration (m/s²)',\n",
       "       'Reference length (cm)', 'Reference area (cm²)',\n",
       "       'Vertical orientation (zenith) (°)',\n",
       "       'Lateral orientation (azimuth) (°)', 'Wind velocity (m/s)',\n",
       "       'Air temperature (°C)', 'Air pressure (mbar)', 'Speed of sound (m/s)',\n",
       "       'Simulation time step (s)', 'Computation time (s)'],\n",
       "      dtype='object')"
      ]
     },
     "execution_count": 6,
     "metadata": {},
     "output_type": "execute_result"
    }
   ],
   "source": [
    "df.columns"
   ]
  },
  {
   "cell_type": "code",
   "execution_count": 17,
   "metadata": {},
   "outputs": [
    {
     "data": {
      "image/png": "[encoded data removed]",
      "text/plain": [
       "<Figure size 432x288 with 1 Axes>"
      ]
     },
     "metadata": {
      "needs_background": "light"
     },
     "output_type": "display_data"
    }
   ],
   "source": [
    "plt.plot(df['# Time (s)'], df['Altitude (m)'])\n",
    "plt.grid(True)"
   ]
  },
  {
   "cell_type": "code",
   "execution_count": 18,
   "metadata": {},
   "outputs": [
    {
     "data": {
      "image/png": "[encoded data removed]",
      "text/plain": [
       "<Figure size 432x288 with 1 Axes>"
      ]
     },
     "metadata": {
      "needs_background": "light"
     },
     "output_type": "display_data"
    }
   ],
   "source": [
    "plt.plot(df['# Time (s)'], df['Vertical velocity (m/s)'])\n",
    "plt.grid(True)"
   ]
  },
  {
   "cell_type": "code",
   "execution_count": 16,
   "metadata": {},
   "outputs": [
    {
     "data": {
      "image/png": "[encoded data removed]",
      "text/plain": [
       "<Figure size 432x288 with 1 Axes>"
      ]
     },
     "metadata": {
      "needs_background": "light"
     },
     "output_type": "display_data"
    }
   ],
   "source": [
    "plt.plot(df['# Time (s)'], df['Mach number (\\u200b)'])\n",
    "plt.grid(True)"
   ]
  },
  {
   "cell_type": "code",
   "execution_count": 11,
   "metadata": {},
   "outputs": [
    {
     "data": {
      "image/png": "[encoded data removed]",
      "text/plain": [
       "<Figure size 432x288 with 1 Axes>"
      ]
     },
     "metadata": {
      "needs_background": "light"
     },
     "output_type": "display_data"
    }
   ],
   "source": [
    "plt.plot(df['Mach number (\\u200b)'], df['Drag coefficient (​)'])\n",
    "plt.grid(True)"
   ]
  },
  {
   "cell_type": "code",
   "execution_count": 120,
   "metadata": {},
   "outputs": [],
   "source": [
    "inds = df['Vertical velocity (m/s)']>0\n",
    "df2 = df[inds]\n",
    "\n",
    "inds = df2['Mach number (\\u200b)']>0.1 \n",
    "dfsub = df2[inds]\n",
    "inds = dfsub['Mach number (\\u200b)']<1\n",
    "dfsub = dfsub[inds]\n",
    "\n",
    "inds = df2['Mach number (\\u200b)']>1 \n",
    "dftrans = df2[inds]\n",
    "inds = dftrans['Mach number (\\u200b)']<1.25\n",
    "dftrans = dftrans[inds]\n",
    "\n",
    "inds = df2['Mach number (\\u200b)']>1.25\n",
    "dfsuper = df2[inds]"
   ]
  },
  {
   "cell_type": "code",
   "execution_count": 66,
   "metadata": {},
   "outputs": [
    {
     "data": {
      "text/html": [
       "<div>\n",
       "<style scoped>\n",
       "    .dataframe tbody tr th:only-of-type {\n",
       "        vertical-align: middle;\n",
       "    }\n",
       "\n",
       "    .dataframe tbody tr th {\n",
       "        vertical-align: top;\n",
       "    }\n",
       "\n",
       "    .dataframe thead th {\n",
       "        text-align: right;\n",
       "    }\n",
       "</style>\n",
       "<table border=\"1\" class=\"dataframe\">\n",
       "  <thead>\n",
       "    <tr style=\"text-align: right;\">\n",
       "      <th></th>\n",
       "      <th># Time (s)</th>\n",
       "      <th>Altitude (m)</th>\n",
       "      <th>Vertical velocity (m/s)</th>\n",
       "      <th>Vertical acceleration (m/s²)</th>\n",
       "      <th>Total velocity (m/s)</th>\n",
       "      <th>Total acceleration (m/s²)</th>\n",
       "      <th>Position East of launch (m)</th>\n",
       "      <th>Position North of launch (m)</th>\n",
       "      <th>Lateral distance (m)</th>\n",
       "      <th>Lateral direction (°)</th>\n",
       "      <th>...</th>\n",
       "      <th>Reference length (cm)</th>\n",
       "      <th>Reference area (cm²)</th>\n",
       "      <th>Vertical orientation (zenith) (°)</th>\n",
       "      <th>Lateral orientation (azimuth) (°)</th>\n",
       "      <th>Wind velocity (m/s)</th>\n",
       "      <th>Air temperature (°C)</th>\n",
       "      <th>Air pressure (mbar)</th>\n",
       "      <th>Speed of sound (m/s)</th>\n",
       "      <th>Simulation time step (s)</th>\n",
       "      <th>Computation time (s)</th>\n",
       "    </tr>\n",
       "  </thead>\n",
       "  <tbody>\n",
       "    <tr>\n",
       "      <th>13</th>\n",
       "      <td>0.13</td>\n",
       "      <td>2.0661</td>\n",
       "      <td>36.225</td>\n",
       "      <td>316.22</td>\n",
       "      <td>36.425</td>\n",
       "      <td>317.96</td>\n",
       "      <td>0.21715</td>\n",
       "      <td>0.0</td>\n",
       "      <td>0.21715</td>\n",
       "      <td>0.0</td>\n",
       "      <td>...</td>\n",
       "      <td>15.24</td>\n",
       "      <td>182.41</td>\n",
       "      <td>84.0</td>\n",
       "      <td>0.0</td>\n",
       "      <td>NaN</td>\n",
       "      <td>14.662</td>\n",
       "      <td>1007.1</td>\n",
       "      <td>340.18</td>\n",
       "      <td>0.01</td>\n",
       "      <td>0.009199</td>\n",
       "    </tr>\n",
       "    <tr>\n",
       "      <th>14</th>\n",
       "      <td>0.14</td>\n",
       "      <td>2.4441</td>\n",
       "      <td>39.388</td>\n",
       "      <td>315.27</td>\n",
       "      <td>39.605</td>\n",
       "      <td>317.01</td>\n",
       "      <td>0.25689</td>\n",
       "      <td>0.0</td>\n",
       "      <td>0.25689</td>\n",
       "      <td>0.0</td>\n",
       "      <td>...</td>\n",
       "      <td>15.24</td>\n",
       "      <td>182.41</td>\n",
       "      <td>84.0</td>\n",
       "      <td>0.0</td>\n",
       "      <td>NaN</td>\n",
       "      <td>14.659</td>\n",
       "      <td>1007.1</td>\n",
       "      <td>340.18</td>\n",
       "      <td>0.01</td>\n",
       "      <td>0.010461</td>\n",
       "    </tr>\n",
       "    <tr>\n",
       "      <th>15</th>\n",
       "      <td>0.15</td>\n",
       "      <td>2.8538</td>\n",
       "      <td>42.541</td>\n",
       "      <td>314.32</td>\n",
       "      <td>42.776</td>\n",
       "      <td>316.05</td>\n",
       "      <td>0.29995</td>\n",
       "      <td>0.0</td>\n",
       "      <td>0.29995</td>\n",
       "      <td>0.0</td>\n",
       "      <td>...</td>\n",
       "      <td>15.24</td>\n",
       "      <td>182.41</td>\n",
       "      <td>84.0</td>\n",
       "      <td>0.0</td>\n",
       "      <td>NaN</td>\n",
       "      <td>14.656</td>\n",
       "      <td>1007.1</td>\n",
       "      <td>340.18</td>\n",
       "      <td>0.01</td>\n",
       "      <td>0.011255</td>\n",
       "    </tr>\n",
       "    <tr>\n",
       "      <th>16</th>\n",
       "      <td>0.16</td>\n",
       "      <td>3.2949</td>\n",
       "      <td>45.685</td>\n",
       "      <td>313.36</td>\n",
       "      <td>45.937</td>\n",
       "      <td>315.09</td>\n",
       "      <td>0.34631</td>\n",
       "      <td>0.0</td>\n",
       "      <td>0.34631</td>\n",
       "      <td>0.0</td>\n",
       "      <td>...</td>\n",
       "      <td>15.24</td>\n",
       "      <td>182.41</td>\n",
       "      <td>84.0</td>\n",
       "      <td>0.0</td>\n",
       "      <td>NaN</td>\n",
       "      <td>14.654</td>\n",
       "      <td>1007.0</td>\n",
       "      <td>340.18</td>\n",
       "      <td>0.01</td>\n",
       "      <td>0.015178</td>\n",
       "    </tr>\n",
       "    <tr>\n",
       "      <th>17</th>\n",
       "      <td>0.17</td>\n",
       "      <td>3.7674</td>\n",
       "      <td>48.819</td>\n",
       "      <td>312.40</td>\n",
       "      <td>49.088</td>\n",
       "      <td>314.12</td>\n",
       "      <td>0.39597</td>\n",
       "      <td>0.0</td>\n",
       "      <td>0.39597</td>\n",
       "      <td>0.0</td>\n",
       "      <td>...</td>\n",
       "      <td>15.24</td>\n",
       "      <td>182.41</td>\n",
       "      <td>84.0</td>\n",
       "      <td>0.0</td>\n",
       "      <td>NaN</td>\n",
       "      <td>14.651</td>\n",
       "      <td>1006.9</td>\n",
       "      <td>340.18</td>\n",
       "      <td>0.01</td>\n",
       "      <td>0.015698</td>\n",
       "    </tr>\n",
       "  </tbody>\n",
       "</table>\n",
       "<p>5 rows × 54 columns</p>\n",
       "</div>"
      ],
      "text/plain": [
       "    # Time (s)  Altitude (m)  Vertical velocity (m/s)  \\\n",
       "13        0.13        2.0661                   36.225   \n",
       "14        0.14        2.4441                   39.388   \n",
       "15        0.15        2.8538                   42.541   \n",
       "16        0.16        3.2949                   45.685   \n",
       "17        0.17        3.7674                   48.819   \n",
       "\n",
       "    Vertical acceleration (m/s²)  Total velocity (m/s)  \\\n",
       "13                        316.22                36.425   \n",
       "14                        315.27                39.605   \n",
       "15                        314.32                42.776   \n",
       "16                        313.36                45.937   \n",
       "17                        312.40                49.088   \n",
       "\n",
       "    Total acceleration (m/s²)  Position East of launch (m)  \\\n",
       "13                     317.96                      0.21715   \n",
       "14                     317.01                      0.25689   \n",
       "15                     316.05                      0.29995   \n",
       "16                     315.09                      0.34631   \n",
       "17                     314.12                      0.39597   \n",
       "\n",
       "    Position North of launch (m)  Lateral distance (m)  Lateral direction (°)  \\\n",
       "13                           0.0               0.21715                    0.0   \n",
       "14                           0.0               0.25689                    0.0   \n",
       "15                           0.0               0.29995                    0.0   \n",
       "16                           0.0               0.34631                    0.0   \n",
       "17                           0.0               0.39597                    0.0   \n",
       "\n",
       "    ...  Reference length (cm)  Reference area (cm²)  \\\n",
       "13  ...                  15.24                182.41   \n",
       "14  ...                  15.24                182.41   \n",
       "15  ...                  15.24                182.41   \n",
       "16  ...                  15.24                182.41   \n",
       "17  ...                  15.24                182.41   \n",
       "\n",
       "    Vertical orientation (zenith) (°)  Lateral orientation (azimuth) (°)  \\\n",
       "13                               84.0                                0.0   \n",
       "14                               84.0                                0.0   \n",
       "15                               84.0                                0.0   \n",
       "16                               84.0                                0.0   \n",
       "17                               84.0                                0.0   \n",
       "\n",
       "    Wind velocity (m/s)  Air temperature (°C)  Air pressure (mbar)  \\\n",
       "13                  NaN                14.662               1007.1   \n",
       "14                  NaN                14.659               1007.1   \n",
       "15                  NaN                14.656               1007.1   \n",
       "16                  NaN                14.654               1007.0   \n",
       "17                  NaN                14.651               1006.9   \n",
       "\n",
       "    Speed of sound (m/s)  Simulation time step (s)  Computation time (s)  \n",
       "13                340.18                      0.01              0.009199  \n",
       "14                340.18                      0.01              0.010461  \n",
       "15                340.18                      0.01              0.011255  \n",
       "16                340.18                      0.01              0.015178  \n",
       "17                340.18                      0.01              0.015698  \n",
       "\n",
       "[5 rows x 54 columns]"
      ]
     },
     "execution_count": 66,
     "metadata": {},
     "output_type": "execute_result"
    }
   ],
   "source": [
    "df3.head()"
   ]
  },
  {
   "cell_type": "code",
   "execution_count": 147,
   "metadata": {},
   "outputs": [
    {
     "data": {
      "text/plain": [
       "2.999961413426626"
      ]
     },
     "execution_count": 147,
     "metadata": {},
     "output_type": "execute_result"
    }
   ],
   "source": [
    "(((df3[\"Reference area (cm²)\"].mean())/np.pi)**0.5)*(1/2.54)"
   ]
  },
  {
   "cell_type": "code",
   "execution_count": 121,
   "metadata": {},
   "outputs": [
    {
     "data": {
      "image/png": "[encoded data removed]",
      "text/plain": [
       "<Figure size 432x288 with 1 Axes>"
      ]
     },
     "metadata": {
      "needs_background": "light"
     },
     "output_type": "display_data"
    }
   ],
   "source": [
    "plt.plot(df3['Mach number (\\u200b)'], df3['Drag coefficient (​)'])\n",
    "plt.grid(True)"
   ]
  },
  {
   "cell_type": "code",
   "execution_count": 138,
   "metadata": {},
   "outputs": [
    {
     "name": "stdout",
     "output_type": "stream",
     "text": [
      "[ 0.62974538 -0.01151512  0.11773826]\n",
      "[-3.52610503  7.99357459 -3.72820877]\n",
      "[ 1.09641739 -0.45894398  0.07741472]\n"
     ]
    }
   ],
   "source": [
    "coeffs_sub = np.polynomial.polynomial.polyfit(x = dfsub['Mach number (\\u200b)'], y=dfsub['Drag coefficient (\\u200b)'], deg = 2)\n",
    "print(coeffs_sub)\n",
    "\n",
    "coeffs_trans = np.polynomial.polynomial.polyfit(x = dftrans['Mach number (\\u200b)'], y=dftrans['Drag coefficient (\\u200b)'], deg = 2)\n",
    "print(coeffs_trans)\n",
    "\n",
    "coeffs_super = np.polynomial.polynomial.polyfit(x = dfsuper['Mach number (\\u200b)'], y=dfsuper['Drag coefficient (\\u200b)'], deg = 2)\n",
    "print(coeffs_super)"
   ]
  },
  {
   "cell_type": "code",
   "execution_count": 136,
   "metadata": {},
   "outputs": [],
   "source": [
    "machs_sub = np.linspace(0,1)\n",
    "cd_sub = np.polynomial.polynomial.polyval(machs_sub,coeffs_sub)\n",
    "\n",
    "machs_trans = np.linspace(1, 1.25)\n",
    "cd_trans = np.polynomial.polynomial.polyval(machs_trans,coeffs_trans)\n",
    "\n",
    "machs_super = np.linspace(1.25,2)\n",
    "cd_super = np.polynomial.polynomial.polyval(machs_super,coeffs_super)"
   ]
  },
  {
   "cell_type": "code",
   "execution_count": 137,
   "metadata": {},
   "outputs": [
    {
     "data": {
      "image/png": "[encoded data removed]",
      "text/plain": [
       "<Figure size 432x288 with 1 Axes>"
      ]
     },
     "metadata": {
      "needs_background": "light"
     },
     "output_type": "display_data"
    }
   ],
   "source": [
    "plt.plot(df3['Mach number (\\u200b)'], df3['Drag coefficient (​)'])\n",
    "plt.plot(machs_sub,cd_sub)\n",
    "plt.plot(machs_trans,cd_trans)\n",
    "plt.plot(machs_super,cd_super)\n",
    "plt.grid(True)"
   ]
  },
  {
   "cell_type": "code",
   "execution_count": null,
   "metadata": {},
   "outputs": [],
   "source": []
  }
 ],
 "metadata": {
  "kernelspec": {
   "display_name": "Python 3",
   "language": "python",
   "name": "python3"
  },
  "language_info": {
   "codemirror_mode": {
    "name": "ipython",
    "version": 3
   },
   "file_extension": ".py",
   "mimetype": "text/x-python",
   "name": "python",
   "nbconvert_exporter": "python",
   "pygments_lexer": "ipython3",
   "version": "3.6.7"
  }
 },
 "nbformat": 4,
 "nbformat_minor": 2
}
